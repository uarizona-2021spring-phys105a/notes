{
 "cells": [
  {
   "cell_type": "markdown",
   "id": "numerical-monthly",
   "metadata": {
    "slideshow": {
     "slide_type": "slide"
    }
   },
   "source": [
    "## PHYS 105A:  Introduction to Scientific Computing\n",
    "\n",
    "# Integration of Differential Equations III\n",
    "\n",
    "Chi-kwan Chan"
   ]
  },
  {
   "cell_type": "markdown",
   "id": "preceding-physics",
   "metadata": {
    "slideshow": {
     "slide_type": "slide"
    }
   },
   "source": [
    "## Newton's Second Law is an ordinary differential equation (ODE)\n",
    "\n",
    "* Given this is an introduction to computational physics course, we are interested in solving, e.g., Newton's equation:\n",
    "\n",
    "  $m \\frac{d^2 x}{dt^2} = f(x, t)$\n",
    "  \n",
    "* We can trivially cast this second order ODE into a system of two first order ODEs:\n",
    " \n",
    "  $\\frac{dx}{dt} = v$\n",
    "  \n",
    "  $\\frac{dv}{dt} = \\frac{1}{m}f(x, t)$\n",
    "  \n",
    "* Using \"vector\" notation, we define $X = [x, v]^t$ and $F = [v, f/m]^t$ so that\n",
    " \n",
    "  $\\frac{dX}{dt} = F(X, t)$."
   ]
  },
  {
   "cell_type": "markdown",
   "id": "occupational-luther",
   "metadata": {
    "slideshow": {
     "slide_type": "slide"
    }
   },
   "source": [
    "## Euler's Method\n",
    "\n",
    "* The ordinary differential equation (ODE) equations we want to solve takes the generic form:\n",
    "\n",
    "  $\\frac{dX}{dt} = F(X, t)$\n",
    "  \n",
    "  where $X$ may be a vector.\n",
    "  \n",
    "* Euler's Method allows us to step the solution forward:\n",
    "\n",
    "  $X_{n+1} = X_n + f(X_n, t_n) \\Delta t$\n",
    "  \n",
    "  where $\\Delta t$ is the time step."
   ]
  },
  {
   "cell_type": "markdown",
   "id": "industrial-brain",
   "metadata": {},
   "source": [
    "## Second-order Runge-Kutta Method\n",
    "\n",
    "* To make the implementation easier, let's use the standard convention:\n",
    "\n",
    "  $k_1 = \\Delta t f(X_n, t_n)$\n",
    "  \n",
    "  $k_2 = \\Delta t f(X_n + \\frac{1}{2}k_1, t_n + \\frac{1}{2}\\Delta t)$\n",
    "  \n",
    "  $X_{n+1} = X_n + k_2 + \\mathcal{O}(h^3)$"
   ]
  },
  {
   "cell_type": "markdown",
   "id": "plastic-vegetation",
   "metadata": {
    "slideshow": {
     "slide_type": "slide"
    }
   },
   "source": [
    "## Fourth-Order Runge-Kutta Method\n",
    "\n",
    "* The classic 4th Runge-Kutta method:\n",
    "\n",
    "  $k_1 = \\Delta t f(X_n, t_n)$\n",
    "  \n",
    "  $k_2 = \\Delta t f(X_n + \\frac{1}{2}k_1, t_n + \\frac{1}{2}\\Delta t)$\n",
    "\n",
    "  $k_3 = \\Delta t f(X_n + \\frac{1}{2}k_2, t_n + \\frac{1}{2}\\Delta t)$\n",
    "  \n",
    "  $k_4 = \\Delta t f(X_n + k_3, t_n + \\Delta t)$\n",
    "    \n",
    "  $X_{n+1} = Y_n + \\frac{1}{6} k_1 + \\frac{1}{3} k_2 + \\frac{1}{3} k_3 + \\frac{1}{6} k_4 + \\mathcal{O}(\\Delta t^5)$"
   ]
  },
  {
   "cell_type": "markdown",
   "id": "bulgarian-camping",
   "metadata": {
    "slideshow": {
     "slide_type": "slide"
    }
   },
   "source": [
    "## Question: Is High Order Always Better?\n",
    "\n",
    "* Different numerical schemes have different error properties.\n",
    "\n",
    "* Convergence rate only describe how these errors get reduce when we decrease the time step.\n",
    "\n",
    "* However, it does not the constant in front of the error term.\n",
    "\n",
    "* It also does not describe *WHAT* error we are getting."
   ]
  },
  {
   "cell_type": "markdown",
   "id": "cardiovascular-copying",
   "metadata": {
    "slideshow": {
     "slide_type": "slide"
    }
   },
   "source": [
    "## Consider Newton's Law of Universal Gravitation\n",
    "\n",
    "* $f = - \\frac{G m_1 m_2}{r^2} \\hat{\\mathbf{r}}$\n",
    "\n",
    "* In classical mechanics, you will learn to solve one- and two-body problem.\n",
    "\n",
    "* \"One-body\" problem is simply a test particle move in a gravitationl potential.\n",
    "\n",
    "* Two-body problem can always be transformed into the \"one-body\" proble and solved analytically.\n",
    "\n",
    "* Three-body problem is non-linear and chaotic."
   ]
  },
  {
   "cell_type": "markdown",
   "id": "departmental-greenhouse",
   "metadata": {
    "slideshow": {
     "slide_type": "slide"
    }
   },
   "source": [
    "## Formulation\n",
    "\n",
    "* Cast the system of 2nd order ODEs\n",
    "    \n",
    "  $m_i \\frac{d\\mathbf{x}_i^2}{dt^2} = - \\sum_{j \\ne i} \\frac{G m_i m_j}{r_{ij}^2} \\hat{\\mathbf{r}}_{ij}$\n",
    "  \n",
    "  into systems of 1st order ODEs:\n",
    "  \n",
    "  $\\frac{d\\mathbf{x}_i}{dt} = \\mathbf{v}_i$\n",
    "\n",
    "  $m_i \\frac{d\\mathbf{v}_i}{dt} = - \\sum_{j \\ne i} \\frac{G m_i m_j}{r_{ij}^2} \\hat{\\mathbf{r}}_{ij}$\n"
   ]
  },
  {
   "cell_type": "code",
   "execution_count": 1,
   "id": "banner-mortgage",
   "metadata": {
    "slideshow": {
     "slide_type": "slide"
    }
   },
   "outputs": [],
   "source": [
    "import numpy as np\n",
    "from matplotlib import pyplot as plt\n",
    "\n",
    "def RK4(f, x, t, dt, n):\n",
    "    T = np.array(t)\n",
    "    X = np.array(x)\n",
    "    \n",
    "    for i in range(n):\n",
    "        k1 = dt * np.array(f(*(x         )))\n",
    "        k2 = dt * np.array(f(*(x + 0.5*k1)))\n",
    "        k3 = dt * np.array(f(*(x + 0.5*k2)))\n",
    "        k4 = dt * np.array(f(*(x +     k3)))\n",
    "        \n",
    "        t += dt\n",
    "        x += k1/6 + k2/3 + k3/3 + k4/6\n",
    "        \n",
    "        T = np.append( T, t)\n",
    "        X = np.vstack((X, x))\n",
    "        \n",
    "    return T, X"
   ]
  },
  {
   "cell_type": "code",
   "execution_count": 2,
   "id": "macro-absence",
   "metadata": {
    "slideshow": {
     "slide_type": "slide"
    }
   },
   "outputs": [],
   "source": [
    "def f(x, y, vx, vy):\n",
    "    rr  = x * x + y * y\n",
    "    r   = np.sqrt(rr)\n",
    "    rrr = r * rr\n",
    "    ax  = -x / rrr\n",
    "    ay  = -y / rrr\n",
    "    return vx, vy, ax, ay"
   ]
  },
  {
   "cell_type": "code",
   "execution_count": 13,
   "id": "ancient-sensitivity",
   "metadata": {
    "slideshow": {
     "slide_type": "slide"
    }
   },
   "outputs": [],
   "source": [
    "N = 5_000\n",
    "T, X = RK4(f, (0, 1, 1, 0), 0, 100/N, N)"
   ]
  },
  {
   "cell_type": "code",
   "execution_count": 14,
   "id": "initial-mission",
   "metadata": {
    "slideshow": {
     "slide_type": "slide"
    }
   },
   "outputs": [
    {
     "data": {
      "image/png": "[encoded data removed]",
      "text/plain": [
       "<Figure size 432x288 with 1 Axes>"
      ]
     },
     "metadata": {
      "needs_background": "light"
     },
     "output_type": "display_data"
    }
   ],
   "source": [
    "x = X[:,0]\n",
    "y = X[:,1]\n",
    "\n",
    "plt.plot(x, y)\n",
    "plt.gca().set_aspect('equal')"
   ]
  },
  {
   "cell_type": "code",
   "execution_count": 15,
   "id": "monthly-potato",
   "metadata": {
    "slideshow": {
     "slide_type": "slide"
    }
   },
   "outputs": [
    {
     "data": {
      "text/plain": [
       "[<matplotlib.lines.Line2D at 0x109a8b6a0>]"
      ]
     },
     "execution_count": 15,
     "metadata": {},
     "output_type": "execute_result"
    },
    {
     "data": {
      "image/png": "[encoded data removed]",
      "text/plain": [
       "<Figure size 432x288 with 1 Axes>"
      ]
     },
     "metadata": {
      "needs_background": "light"
     },
     "output_type": "display_data"
    }
   ],
   "source": [
    "x  = X[:,0]\n",
    "y  = X[:,1]\n",
    "vx = X[:,2]\n",
    "vy = X[:,3]\n",
    "\n",
    "KE = 0.5 * (vx*vx + vy*vy)\n",
    "PE = -1 / np.sqrt(x*x + y*y)\n",
    "\n",
    "plt.plot(T, KE + PE)"
   ]
  },
  {
   "cell_type": "code",
   "execution_count": 16,
   "id": "metallic-correction",
   "metadata": {
    "slideshow": {
     "slide_type": "slide"
    }
   },
   "outputs": [
    {
     "data": {
      "image/png": "[encoded data removed]",
      "text/plain": [
       "<Figure size 432x288 with 1 Axes>"
      ]
     },
     "metadata": {
      "needs_background": "light"
     },
     "output_type": "display_data"
    }
   ],
   "source": [
    "N = 5_000\n",
    "T, X = RK4(f, (0, 1, 0.5, 0), 0, 100/N, N)\n",
    "x = X[:,0]\n",
    "y = X[:,1]\n",
    "\n",
    "plt.plot(x, y)\n",
    "plt.gca().set_aspect('equal')"
   ]
  },
  {
   "cell_type": "code",
   "execution_count": 17,
   "id": "alert-picnic",
   "metadata": {
    "slideshow": {
     "slide_type": "slide"
    }
   },
   "outputs": [
    {
     "data": {
      "text/plain": [
       "[<matplotlib.lines.Line2D at 0x1098937f0>]"
      ]
     },
     "execution_count": 17,
     "metadata": {},
     "output_type": "execute_result"
    },
    {
     "data": {
      "image/png": "[encoded data removed]",
      "text/plain": [
       "<Figure size 432x288 with 1 Axes>"
      ]
     },
     "metadata": {
      "needs_background": "light"
     },
     "output_type": "display_data"
    }
   ],
   "source": [
    "x  = X[:,0]\n",
    "y  = X[:,1]\n",
    "vx = X[:,2]\n",
    "vy = X[:,3]\n",
    "\n",
    "KE = 0.5 * (vx*vx + vy*vy)\n",
    "PE = -1 / np.sqrt(x*x + y*y)\n",
    "\n",
    "plt.plot(T, KE + PE)"
   ]
  },
  {
   "cell_type": "markdown",
   "id": "charged-truth",
   "metadata": {
    "slideshow": {
     "slide_type": "slide"
    }
   },
   "source": [
    "## Runge-Kutta Methods Do Not Conserver Energy\n",
    "\n",
    "* As we evolve in time, the energy in general decrease in a Runge-Kutta scheme.\n",
    "\n",
    "* This is a problem when we want to integrate, e.g., the solar system for millions of years to study its stability."
   ]
  },
  {
   "cell_type": "code",
   "execution_count": 20,
   "id": "blessed-triple",
   "metadata": {
    "slideshow": {
     "slide_type": "slide"
    }
   },
   "outputs": [
    {
     "data": {
      "image/png": "[encoded data removed]",
      "text/plain": [
       "<Figure size 432x288 with 1 Axes>"
      ]
     },
     "metadata": {
      "needs_background": "light"
     },
     "output_type": "display_data"
    }
   ],
   "source": [
    "N = 3_000\n",
    "T, X = RK4(f, (0, 1, 0.5, 0), 0, 100/N, N)\n",
    "x = X[:,0]\n",
    "y = X[:,1]\n",
    "\n",
    "plt.plot(x, y)\n",
    "plt.gca().set_aspect('equal')"
   ]
  },
  {
   "cell_type": "code",
   "execution_count": 21,
   "id": "brief-earthquake",
   "metadata": {
    "slideshow": {
     "slide_type": "slide"
    }
   },
   "outputs": [
    {
     "data": {
      "text/plain": [
       "[<matplotlib.lines.Line2D at 0x1097503a0>]"
      ]
     },
     "execution_count": 21,
     "metadata": {},
     "output_type": "execute_result"
    },
    {
     "data": {
      "image/png": "[encoded data removed]",
      "text/plain": [
       "<Figure size 432x288 with 1 Axes>"
      ]
     },
     "metadata": {
      "needs_background": "light"
     },
     "output_type": "display_data"
    }
   ],
   "source": [
    "x  = X[:,0]\n",
    "y  = X[:,1]\n",
    "vx = X[:,2]\n",
    "vy = X[:,3]\n",
    "\n",
    "KE = 0.5 * (vx*vx + vy*vy)\n",
    "PE = -1 / np.sqrt(x*x + y*y)\n",
    "\n",
    "plt.plot(T, KE + PE)"
   ]
  },
  {
   "cell_type": "markdown",
   "id": "structural-transsexual",
   "metadata": {
    "slideshow": {
     "slide_type": "slide"
    }
   },
   "source": [
    "## Runge-Kutta Methods Do Not Conserver Energy\n",
    "\n",
    "* As we evolve in time, the energy in general decrease in a Runge-Kutta scheme.\n",
    "\n",
    "* This is a problem when we want to integrate, e.g., the solar system for millions of years to study its stability.\n",
    "\n",
    "* The \"planet\" artificially falls onto the \"sun\".\n",
    "\n",
    "* While RK4 gives us \"accurate\" results in the sense that in each orbit, its error is not that big; however, it leads to completely wrong conclusion!\n",
    "\n",
    "* We need to do better."
   ]
  },
  {
   "cell_type": "code",
   "execution_count": null,
   "id": "pleasant-conducting",
   "metadata": {
    "slideshow": {
     "slide_type": "slide"
    }
   },
   "outputs": [],
   "source": []
  }
 ],
 "metadata": {
  "celltoolbar": "Slideshow",
  "kernelspec": {
   "display_name": "Python 3",
   "language": "python",
   "name": "python3"
  },
  "language_info": {
   "codemirror_mode": {
    "name": "ipython",
    "version": 3
   },
   "file_extension": ".py",
   "mimetype": "text/x-python",
   "name": "python",
   "nbconvert_exporter": "python",
   "pygments_lexer": "ipython3",
   "version": "3.8.9"
  }
 },
 "nbformat": 4,
 "nbformat_minor": 5
}
