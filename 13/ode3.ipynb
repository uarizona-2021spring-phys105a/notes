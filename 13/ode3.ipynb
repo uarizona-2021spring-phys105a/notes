{
 "cells": [
  {
   "cell_type": "markdown",
   "id": "numerical-monthly",
   "metadata": {
    "slideshow": {
     "slide_type": "slide"
    }
   },
   "source": [
    "## PHYS 105A:  Introduction to Scientific Computing\n",
    "\n",
    "# Integration of Differential Equations III\n",
    "\n",
    "Chi-kwan Chan"
   ]
  },
  {
   "cell_type": "markdown",
   "id": "preceding-physics",
   "metadata": {
    "slideshow": {
     "slide_type": "slide"
    }
   },
   "source": [
    "## Newton's Second Law is an ordinary differential equation (ODE)\n",
    "\n",
    "* Given this is an introduction to computational physics course, we are interested in solving, e.g., Newton's equation:\n",
    "\n",
    "  $m \\frac{d^2 x}{dt^2} = f(x, t)$\n",
    "  \n",
    "* We can trivially cast this second order ODE into a system of two first order ODEs:\n",
    " \n",
    "  $\\frac{dx}{dt} = v$\n",
    "  \n",
    "  $\\frac{dv}{dt} = \\frac{1}{m}f(x, t)$\n",
    "  \n",
    "* Using \"vector\" notation, we define $X = [x, v]^t$ and $F = [v, f/m]^t$ so that\n",
    " \n",
    "  $\\frac{dX}{dt} = F(X, t)$."
   ]
  },
  {
   "cell_type": "markdown",
   "id": "occupational-luther",
   "metadata": {
    "slideshow": {
     "slide_type": "slide"
    }
   },
   "source": [
    "## Euler's Method\n",
    "\n",
    "* The ordinary differential equation (ODE) equations we want to solve takes the generic form:\n",
    "\n",
    "  $\\frac{dX}{dt} = F(X, t)$\n",
    "  \n",
    "  where $X$ may be a vector.\n",
    "  \n",
    "* Euler's Method allows us to step the solution forward:\n",
    "\n",
    "  $X_{n+1} = X_n + f(X_n, t_n) \\Delta t$\n",
    "  \n",
    "  where $\\Delta t$ is the time step."
   ]
  },
  {
   "cell_type": "markdown",
   "id": "industrial-brain",
   "metadata": {},
   "source": [
    "## Second-order Runge-Kutta Method\n",
    "\n",
    "* To make the implementation easier, let's use the standard convention:\n",
    "\n",
    "  $k_1 = \\Delta t f(X_n, t_n)$\n",
    "  \n",
    "  $k_2 = \\Delta t f(X_n + \\frac{1}{2}k_1, t_n + \\frac{1}{2}\\Delta t)$\n",
    "  \n",
    "  $X_{n+1} = X_n + k_2 + \\mathcal{O}(h^3)$"
   ]
  },
  {
   "cell_type": "markdown",
   "id": "plastic-vegetation",
   "metadata": {
    "slideshow": {
     "slide_type": "slide"
    }
   },
   "source": [
    "## Fourth-Order Runge-Kutta Method\n",
    "\n",
    "* The classic 4th Runge-Kutta method:\n",
    "\n",
    "  $k_1 = \\Delta t f(X_n, t_n)$\n",
    "  \n",
    "  $k_2 = \\Delta t f(X_n + \\frac{1}{2}k_1, t_n + \\frac{1}{2}\\Delta t)$\n",
    "\n",
    "  $k_3 = \\Delta t f(X_n + \\frac{1}{2}k_2, t_n + \\frac{1}{2}\\Delta t)$\n",
    "  \n",
    "  $k_4 = \\Delta t f(X_n + k_3, t_n + \\Delta t)$\n",
    "    \n",
    "  $X_{n+1} = Y_n + \\frac{1}{6} k_1 + \\frac{1}{3} k_2 + \\frac{1}{3} k_3 + \\frac{1}{6} k_4 + \\mathcal{O}(\\Delta t^5)$"
   ]
  }
 ],
 "metadata": {
  "celltoolbar": "Slideshow",
  "kernelspec": {
   "display_name": "Python 3",
   "language": "python",
   "name": "python3"
  },
  "language_info": {
   "codemirror_mode": {
    "name": "ipython",
    "version": 3
   },
   "file_extension": ".py",
   "mimetype": "text/x-python",
   "name": "python",
   "nbconvert_exporter": "python",
   "pygments_lexer": "ipython3",
   "version": "3.8.9"
  }
 },
 "nbformat": 4,
 "nbformat_minor": 5
}
