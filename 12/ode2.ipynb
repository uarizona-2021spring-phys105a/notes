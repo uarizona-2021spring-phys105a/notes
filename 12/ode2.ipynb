{
 "cells": [
  {
   "cell_type": "markdown",
   "id": "numerical-monthly",
   "metadata": {
    "slideshow": {
     "slide_type": "slide"
    }
   },
   "source": [
    "## PHYS 105A:  Introduction to Scientific Computing\n",
    "\n",
    "# Integration of Differential Equations II\n",
    "\n",
    "Chi-kwan Chan"
   ]
  },
  {
   "cell_type": "markdown",
   "id": "preceding-physics",
   "metadata": {
    "slideshow": {
     "slide_type": "slide"
    }
   },
   "source": [
    "## Newton's Second Law is an ordinary differential equation (ODE)\n",
    "\n",
    "* Given this is an introduction to computational physics course, we are interested in solving, e.g., Newton's equation:\n",
    "\n",
    "  $m \\frac{d^2 x}{dt^2} = f(x, t)$\n",
    "  \n",
    "* We can trivially cast this second order ODE into a system of two first order ODEs:\n",
    " \n",
    "  $\\frac{dx}{dt} = v$\n",
    "  \n",
    "  $\\frac{dv}{dt} = \\frac{1}{m}f(x, t)$\n",
    "  \n",
    "* Using \"vector\" notation, we define $X = [x, v]^t$ and $F = [v, f/m]^t$ so that\n",
    " \n",
    "  $\\frac{dX}{dt} = F(X, t)$."
   ]
  },
  {
   "cell_type": "markdown",
   "id": "occupational-luther",
   "metadata": {
    "slideshow": {
     "slide_type": "slide"
    }
   },
   "source": [
    "## Euler's Method\n",
    "\n",
    "* The ordinary differential equation (ODE) equations we want to solve takes the generic form:\n",
    "\n",
    "  $\\frac{dX}{dt} = F(X, t)$\n",
    "  \n",
    "  where $X$ may be a vector.\n",
    "  \n",
    "* Euler's Method allows us to step the solution forward:\n",
    "\n",
    "  $X_{n+1} = X_n + f(X_n, t_n) \\Delta t$\n",
    "  \n",
    "  where $\\Delta t$ is the time step."
   ]
  },
  {
   "cell_type": "code",
   "execution_count": 1,
   "id": "domestic-google",
   "metadata": {
    "slideshow": {
     "slide_type": "slide"
    }
   },
   "outputs": [],
   "source": [
    "def forwardEuler(f, x, t, dt, n):\n",
    "    T = np.array(t)\n",
    "    X = np.array(x)\n",
    "    for i in range(n):\n",
    "        t += dt\n",
    "        x += np.array(f(*x)) * dt\n",
    "        T = np.append( T, t )\n",
    "        X = np.vstack((X, x))\n",
    "    return T, X"
   ]
  },
  {
   "cell_type": "code",
   "execution_count": 2,
   "id": "communist-responsibility",
   "metadata": {
    "slideshow": {
     "slide_type": "slide"
    }
   },
   "outputs": [
    {
     "name": "stdout",
     "output_type": "stream",
     "text": [
      "0.00039451207064656636\n"
     ]
    },
    {
     "data": {
      "text/plain": [
       "[<matplotlib.lines.Line2D at 0x10e0ae160>]"
      ]
     },
     "execution_count": 2,
     "metadata": {},
     "output_type": "execute_result"
    },
    {
     "data": {
      "image/png": "[encoded data removed]",
      "text/plain": [
       "<Figure size 432x288 with 1 Axes>"
      ]
     },
     "metadata": {
      "needs_background": "light"
     },
     "output_type": "display_data"
    }
   ],
   "source": [
    "import numpy as np\n",
    "from matplotlib import pyplot as plt\n",
    "\n",
    "def f(theta, omega):\n",
    "    return omega, -theta\n",
    "\n",
    "def error(N=100):\n",
    "    T, X = forwardEuler(f, (0, 0.01), 0, 10/N, N)\n",
    "    Theta  = X[:,0]\n",
    "    Thetap = 0.01 * np.sin(T)\n",
    "    return np.max(abs(Theta - Thetap))\n",
    "\n",
    "N = np.array([64, 128, 256, 512, 1024])\n",
    "E = np.array([error(n) for n in N])\n",
    "\n",
    "print(E[-1])\n",
    "\n",
    "plt.loglog(N, 0.5/N)\n",
    "plt.loglog(N, E, 'o:')"
   ]
  },
  {
   "cell_type": "markdown",
   "id": "continuous-climate",
   "metadata": {
    "slideshow": {
     "slide_type": "slide"
    }
   },
   "source": [
    "## Can We Improve the Method?\n",
    "\n",
    "* Fordware Euler method is only first order accuate.\n",
    "\n",
    "* Can we improve the convergent rate?  I.e., can we make the error reduce more rapidly as we use smaller steps?\n",
    "\n",
    "* Take idea from our integrator lecture: mid Riemann sum converges faster than the left/right Reimann sum!"
   ]
  },
  {
   "cell_type": "markdown",
   "id": "forced-department",
   "metadata": {
    "slideshow": {
     "slide_type": "slide"
    }
   },
   "source": [
    "## A Mid-Point Method?\n",
    "\n",
    "* Proposal:\n",
    "\n",
    "    $X_{n+1} = X_n + f(X_{n+1/2}, t_{n+1/2}) \\Delta t$\n",
    "    \n",
    "* However, this method does not work because $f_{n+1/2} \\equiv f(X_{n+1/2}, t_{n+1/2})$ is **UNKNOWN** at step $n$.\n",
    "\n",
    "* If the right hand side is independent of $X$, i.e., $dx/dt = f(t)$, this is an ODE and mid-point method works.  But this does not work for a generic ODE."
   ]
  },
  {
   "cell_type": "markdown",
   "id": "associate-albert",
   "metadata": {
    "slideshow": {
     "slide_type": "slide"
    }
   },
   "source": [
    "## A Simple Idea:\n",
    "\n",
    "* It is good enough if we can find an approximated half-step solutoin $Y_{n+1/2}$.\n",
    "\n",
    "* We may use forward Euler to obtain the half-step solution:\n",
    "\n",
    "  $\\tilde{X}_{n+1/2} = X_n + f(X_n, t_n) \\Delta t$.\n",
    "  \n",
    "  $X_{n+1} = X_n + f(\\tilde{X}_{n+1/2}, t_{n+1/2}) \\Delta t$.\n",
    "  \n",
    "* This is called the second-order Runge-Kutta method."
   ]
  },
  {
   "cell_type": "markdown",
   "id": "willing-playback",
   "metadata": {
    "slideshow": {
     "slide_type": "slide"
    }
   },
   "source": [
    "![RK2 vs Euler](RK2_vs_Euler.png)"
   ]
  },
  {
   "cell_type": "markdown",
   "id": "industrial-brain",
   "metadata": {},
   "source": [
    "## Second-order Runge-Kutta Method\n",
    "\n",
    "* To make the implementation easier, let's use the standard convention:\n",
    "\n",
    "  $k_1 = \\Delta t f(X_n, t_n)$\n",
    "  \n",
    "  $k_2 = \\Delta t f(X_n + \\frac{1}{2}k_1, t_n + \\frac{1}{2}\\Delta t)$\n",
    "  \n",
    "  $X_{n+1} = X_n + k_2 + \\mathcal{O}(h^3)$"
   ]
  },
  {
   "cell_type": "code",
   "execution_count": 3,
   "id": "technical-wayne",
   "metadata": {
    "slideshow": {
     "slide_type": "slide"
    }
   },
   "outputs": [],
   "source": [
    "def RK2(f, x, t, dt, n):\n",
    "    T = np.array(t)\n",
    "    X = np.array(x)\n",
    "    \n",
    "    for i in range(n):\n",
    "        k1 = dt * np.array(f(*(x         )))\n",
    "        k2 = dt * np.array(f(*(x + 0.5*k1)))\n",
    "        \n",
    "        t += dt\n",
    "        x += k2\n",
    "        \n",
    "        T = np.append( T, t)\n",
    "        X = np.vstack((X, x))\n",
    "        \n",
    "    return T, X"
   ]
  },
  {
   "cell_type": "code",
   "execution_count": 4,
   "id": "frank-procurement",
   "metadata": {
    "slideshow": {
     "slide_type": "slide"
    }
   },
   "outputs": [
    {
     "data": {
      "text/plain": [
       "[<matplotlib.lines.Line2D at 0x10e313520>]"
      ]
     },
     "execution_count": 4,
     "metadata": {},
     "output_type": "execute_result"
    },
    {
     "data": {
      "image/png": "[encoded data removed]",
      "text/plain": [
       "<Figure size 432x288 with 1 Axes>"
      ]
     },
     "metadata": {
      "needs_background": "light"
     },
     "output_type": "display_data"
    }
   ],
   "source": [
    "N=64\n",
    "\n",
    "T, X = RK2(f, (0, 0.01), 0, 10/N, N)\n",
    "\n",
    "plt.plot(T, 0.01*np.sin(T))\n",
    "plt.plot(T, X[:,0], 'o')"
   ]
  },
  {
   "cell_type": "code",
   "execution_count": 5,
   "id": "lined-isaac",
   "metadata": {
    "slideshow": {
     "slide_type": "slide"
    }
   },
   "outputs": [
    {
     "name": "stdout",
     "output_type": "stream",
     "text": [
      "1.5075036412163893e-06\n"
     ]
    },
    {
     "data": {
      "text/plain": [
       "[<matplotlib.lines.Line2D at 0x10e375730>]"
      ]
     },
     "execution_count": 5,
     "metadata": {},
     "output_type": "execute_result"
    },
    {
     "data": {
      "image/png": "[encoded data removed]",
      "text/plain": [
       "<Figure size 432x288 with 1 Axes>"
      ]
     },
     "metadata": {
      "needs_background": "light"
     },
     "output_type": "display_data"
    }
   ],
   "source": [
    "def error2(N=100):\n",
    "    T, X = RK2(f, (0, 0.01), 0, 10/N, N)\n",
    "    Theta  = X[:,0]\n",
    "    Thetap = 0.01 * np.sin(T)\n",
    "    return np.max(abs(Theta - Thetap))\n",
    "\n",
    "N = np.array([64, 128, 256, 512, 1024])\n",
    "E2 = np.array([error2(n) for n in N])\n",
    "\n",
    "print(E2[-1])\n",
    "\n",
    "plt.loglog(N, 1/N**2)\n",
    "plt.loglog(N, E, 'o:')\n",
    "plt.loglog(N, E2,'o-')"
   ]
  },
  {
   "cell_type": "markdown",
   "id": "discrete-dancing",
   "metadata": {
    "slideshow": {
     "slide_type": "slide"
    }
   },
   "source": [
    "## Converge Rate\n",
    "\n",
    "* As shown in the convergence plot, RK2 is second order.\n",
    "\n",
    "* Using 1024 points in integration, although the computation cost almost double, the solution is ~ 250 times more accurate!\n",
    "\n",
    "* Can we do even better than RK2?"
   ]
  },
  {
   "cell_type": "markdown",
   "id": "express-garden",
   "metadata": {
    "slideshow": {
     "slide_type": "slide"
    }
   },
   "source": [
    "## Observation and Proposal\n",
    "\n",
    "* In RK2, the mid point value $X_n + \\frac{1}{2}k_1$ is the simplest approximation computed using forward Euler:\n",
    "\n",
    "  $k_1 = \\Delta t f(X_n, t_n)$\n",
    "  \n",
    "  $k_2 = \\Delta t f(X_n + \\frac{1}{2}k_1, t_n + \\frac{1}{2}\\Delta t)$\n",
    "\n",
    "* We may improve the estimate of the mid point value by using the forward Euler estimate:\n",
    "\n",
    "  $k_3 = \\Delta t f(X_n + \\frac{1}{2}k_2, t_n + \\frac{1}{2}\\Delta t)$\n",
    "  \n",
    "* And the full step should be computed using this improved estimate:\n",
    "\n",
    "  $k_4 = \\Delta t f(X_n + k_3, t_n + \\Delta t)$"
   ]
  },
  {
   "cell_type": "markdown",
   "id": "extraordinary-eagle",
   "metadata": {
    "slideshow": {
     "slide_type": "slide"
    }
   },
   "source": [
    "## One last idea\n",
    "\n",
    "* $k_1$, $k_2$, $k_3$, and $k_4$ are all estimate of how $X$ would change but with different error terms.\n",
    "\n",
    "* A carefully constructed combination of them will allow us to cancel the error!\n",
    "\n",
    "![RK4](RK4.png)"
   ]
  },
  {
   "cell_type": "markdown",
   "id": "plastic-vegetation",
   "metadata": {
    "slideshow": {
     "slide_type": "slide"
    }
   },
   "source": [
    "## Fourth-Order Runge-Kutta Method\n",
    "\n",
    "* The classic 4th Runge-Kutta method:\n",
    "\n",
    "  $k_1 = \\Delta t f(X_n, t_n)$\n",
    "  \n",
    "  $k_2 = \\Delta t f(X_n + \\frac{1}{2}k_1, t_n + \\frac{1}{2}\\Delta t)$\n",
    "\n",
    "  $k_3 = \\Delta t f(X_n + \\frac{1}{2}k_2, t_n + \\frac{1}{2}\\Delta t)$\n",
    "  \n",
    "  $k_4 = \\Delta t f(X_n + k_3, t_n + \\Delta t)$\n",
    "    \n",
    "  $X_{n+1} = Y_n + \\frac{1}{6} k_1 + \\frac{1}{3} k_2 + \\frac{1}{3} k_3 + \\frac{1}{6} k_4 + \\mathcal{O}(\\Delta t^5)$"
   ]
  },
  {
   "cell_type": "code",
   "execution_count": 6,
   "id": "nonprofit-visibility",
   "metadata": {
    "slideshow": {
     "slide_type": "slide"
    }
   },
   "outputs": [],
   "source": [
    "def RK4(f, x, t, dt, n):\n",
    "    T = np.array(t)\n",
    "    X = np.array(x)\n",
    "    \n",
    "    for i in range(n):\n",
    "        k1 = dt * np.array(f(*(x         )))\n",
    "        k2 = dt * np.array(f(*(x + 0.5*k1)))\n",
    "        k3 = dt * np.array(f(*(x + 0.5*k2)))\n",
    "        k4 = dt * np.array(f(*(x +     k3)))\n",
    "        \n",
    "        t += dt\n",
    "        x += k1/6 + k2/3 + k3/3 + k4/6\n",
    "        \n",
    "        T = np.append( T, t)\n",
    "        X = np.vstack((X, x))\n",
    "        \n",
    "    return T, X"
   ]
  },
  {
   "cell_type": "code",
   "execution_count": 7,
   "id": "amber-retrieval",
   "metadata": {},
   "outputs": [
    {
     "data": {
      "text/plain": [
       "[<matplotlib.lines.Line2D at 0x10e51ca60>]"
      ]
     },
     "execution_count": 7,
     "metadata": {},
     "output_type": "execute_result"
    },
    {
     "data": {
      "image/png": "[encoded data removed]",
      "text/plain": [
       "<Figure size 432x288 with 1 Axes>"
      ]
     },
     "metadata": {
      "needs_background": "light"
     },
     "output_type": "display_data"
    }
   ],
   "source": [
    "N=64\n",
    "\n",
    "T, X = RK4(f, (0, 0.01), 0, 10/N, N)\n",
    "\n",
    "plt.plot(T, 0.01*np.sin(T))\n",
    "plt.plot(T, X[:,0], 'o')"
   ]
  },
  {
   "cell_type": "code",
   "execution_count": 8,
   "id": "substantial-experiment",
   "metadata": {
    "slideshow": {
     "slide_type": "slide"
    }
   },
   "outputs": [
    {
     "name": "stdout",
     "output_type": "stream",
     "text": [
      "7.189048618558291e-12\n"
     ]
    },
    {
     "data": {
      "text/plain": [
       "[<matplotlib.lines.Line2D at 0x10e56e610>]"
      ]
     },
     "execution_count": 8,
     "metadata": {},
     "output_type": "execute_result"
    },
    {
     "data": {
      "image/png": "[encoded data removed]",
      "text/plain": [
       "<Figure size 432x288 with 1 Axes>"
      ]
     },
     "metadata": {
      "needs_background": "light"
     },
     "output_type": "display_data"
    }
   ],
   "source": [
    "def error3(N=100):\n",
    "    T, X = RK4(f, (0, 0.01), 0, 10/N, N)\n",
    "    Theta  = X[:,0]\n",
    "    Thetap = 0.01 * np.sin(T)\n",
    "    return np.max(abs(Theta - Thetap))\n",
    "\n",
    "N = np.array([64, 128, 256, 512, 1024])\n",
    "E3 = np.array([error3(n) for n in N])\n",
    "\n",
    "print(E3[-1])\n",
    "\n",
    "plt.loglog(N, 1/N**4)\n",
    "plt.loglog(N, E, 'o:')\n",
    "plt.loglog(N, E2,'o--')\n",
    "plt.loglog(N, E3,'o-')"
   ]
  },
  {
   "cell_type": "code",
   "execution_count": null,
   "id": "alpine-suffering",
   "metadata": {},
   "outputs": [],
   "source": []
  }
 ],
 "metadata": {
  "celltoolbar": "Slideshow",
  "kernelspec": {
   "display_name": "Python 3",
   "language": "python",
   "name": "python3"
  },
  "language_info": {
   "codemirror_mode": {
    "name": "ipython",
    "version": 3
   },
   "file_extension": ".py",
   "mimetype": "text/x-python",
   "name": "python",
   "nbconvert_exporter": "python",
   "pygments_lexer": "ipython3",
   "version": "3.8.9"
  }
 },
 "nbformat": 4,
 "nbformat_minor": 5
}
